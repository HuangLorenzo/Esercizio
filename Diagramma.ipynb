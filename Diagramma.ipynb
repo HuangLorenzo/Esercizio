{
 "cells": [
  {
   "cell_type": "markdown",
   "id": "24ea299a-2c26-4cea-a3d7-1a060b08b2f0",
   "metadata": {},
   "source": [
    "# ESERCIZIO SARO A TRIO (diagramma HR)"
   ]
  },
  {
   "cell_type": "markdown",
   "id": "e4b86af2-f01d-43b2-9d8c-4e1a74613edd",
   "metadata": {},
   "source": [
    "Lavorate in gruppo (min 2, max 3). Lo scopo dell'esercizio e' creare un __codice che chiami una classe__, la quale implementi metodi per __leggere il file Nemo_6670.dat__ e realizzare il solito grafico colore-magnitudine, color-coded in base all'eta' delle stelle. Una persona organizza le attivita' e definisce il canovaccio del codice da caricare su gituhb, dando gli incarichi di \"riempire i buchi\" dividendosi il lavore."
   ]
  },
  {
   "cell_type": "markdown",
   "id": "1a53df6d-0f73-4baa-9841-2f2f2f5734ee",
   "metadata": {},
   "source": [
    "## CREAZIONE di una CLASSE"
   ]
  },
  {
   "cell_type": "markdown",
   "id": "8d141528-6473-47cc-afc0-2eb9a3d9c75e",
   "metadata": {},
   "source": [
    "Questa classe che prende come input un file di dati e output le colonne coi dati che ci servono per il grafico."
   ]
  },
  {
   "cell_type": "code",
   "execution_count": 9,
   "id": "a023d47d-5c39-4720-abdc-61f8c26be848",
   "metadata": {},
   "outputs": [
    {
     "name": "stdout",
     "output_type": "stream",
     "text": [
      "      MsuH    m_ini   logL   logTe  M_ass  b_ass  y_ass     m_app       b-y  \\\n",
      "0     0.28  2.31633  1.696  3.8475  0.450  0.659  0.433  6.377450  0.271987   \n",
      "1     0.44  2.16245  1.468  3.8049  1.050  1.361  1.032  3.638197  0.339399   \n",
      "2     0.51  0.96579 -0.332  3.7154  5.773  6.274  5.738  5.667350  0.539040   \n",
      "3    -0.10  1.01151  0.085  3.7798  4.595  4.951  4.575  5.820310  0.381590   \n",
      "4    -0.45  0.95608  0.192  3.7971  4.337  4.657  4.319  3.440032  0.340114   \n",
      "...    ...      ...    ...     ...    ...    ...    ...       ...       ...   \n",
      "6665 -0.10  0.67467 -0.845  3.6474  7.443  8.054  7.379  3.810229  0.675601   \n",
      "6666 -0.04  0.81052 -0.507  3.7043  6.261  6.754  6.225  6.666521  0.532842   \n",
      "6667 -0.86  0.61714 -0.806  3.6866  7.091  7.603  7.057  6.231809  0.548151   \n",
      "6668  0.40  2.58142  1.788  3.9247  0.255  0.303  0.239  4.432170  0.085281   \n",
      "6669 -0.72  1.23725  0.590  3.8790  3.318  3.488  3.301  5.687939  0.196418   \n",
      "\n",
      "          dist  abs_dist     ID_parent  age_parent  \n",
      "0     143.4808  143.4808  4.222250e+09    0.742048  \n",
      "1      32.4452   32.4452  3.150372e+09    1.010928  \n",
      "2       9.4836    9.4836  4.223612e+09    0.051529  \n",
      "3      17.4411   17.4411  3.148632e+09    3.687081  \n",
      "4      -6.5961    6.5961  1.002465e+09    4.605646  \n",
      "...        ...       ...           ...         ...  \n",
      "6665    1.8753    1.8753  1.001470e+09    3.256766  \n",
      "6666   11.9869   11.9869  3.147767e+09    1.373838  \n",
      "6667   -6.7115    6.7115  1.002345e+09    1.194399  \n",
      "6668  -66.3979   66.3979  4.224205e+09    0.588452  \n",
      "6669  -29.3840   29.3840  1.003116e+09    0.546763  \n",
      "\n",
      "[6670 rows x 13 columns]\n"
     ]
    }
   ],
   "source": [
    "import pandas as pd\n",
    "import numpy as np\n",
    "from matplotlib import pyplot as plt\n",
    "import seaborn as sns\n",
    "\n",
    "class dati:\n",
    "        def __init__(classe, file):\n",
    "            classe.lettura = pd.read_csv(file, delimiter=' ')\n",
    "\n",
    "classe_nemo=dati('Nemo_6670.dat')\n",
    "print(classe_nemo.lettura)"
   ]
  },
  {
   "cell_type": "markdown",
   "id": "b9edb29b-2266-4483-94a3-ab90d0163378",
   "metadata": {},
   "source": [
    "Testo delle cose che fa Lorenzo"
   ]
  },
  {
   "cell_type": "markdown",
   "id": "1e133ecd-db35-414e-a809-ffc17b2b899c",
   "metadata": {},
   "source": [
    "Codice del testo di Lorenzo"
   ]
  }
 ],
 "metadata": {
  "kernelspec": {
   "display_name": "Python 3 (ipykernel)",
   "language": "python",
   "name": "python3"
  },
  "language_info": {
   "codemirror_mode": {
    "name": "ipython",
    "version": 3
   },
   "file_extension": ".py",
   "mimetype": "text/x-python",
   "name": "python",
   "nbconvert_exporter": "python",
   "pygments_lexer": "ipython3",
   "version": "3.12.6"
  }
 },
 "nbformat": 4,
 "nbformat_minor": 5
}
