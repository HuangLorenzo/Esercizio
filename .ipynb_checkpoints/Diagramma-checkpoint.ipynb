{
 "cells": [
  {
   "cell_type": "markdown",
   "id": "24ea299a-2c26-4cea-a3d7-1a060b08b2f0",
   "metadata": {},
   "source": [
    "# ESERCIZIO SARO A TRIO (diagramma HR)"
   ]
  },
  {
   "cell_type": "markdown",
   "id": "e4b86af2-f01d-43b2-9d8c-4e1a74613edd",
   "metadata": {},
   "source": [
    "Lavorate in gruppo (min 2, max 3). Lo scopo dell'esercizio e' creare un codice che chiami una classe, la quale implementi metodi per leggere il file Nemo_6670.dat e realizzare il solito grafico colore-magnitudine, color-coded in base all'eta' delle stelle. Una persona organizza le attivita' e definisce il canovaccio del codice da caricare su gituhb, dando gli incarichi di \"riempire i buchi\" dividendosi il lavore."
   ]
  }
 ],
 "metadata": {
  "kernelspec": {
   "display_name": "Python 3 (ipykernel)",
   "language": "python",
   "name": "python3"
  },
  "language_info": {
   "codemirror_mode": {
    "name": "ipython",
    "version": 3
   },
   "file_extension": ".py",
   "mimetype": "text/x-python",
   "name": "python",
   "nbconvert_exporter": "python",
   "pygments_lexer": "ipython3",
   "version": "3.12.7"
  }
 },
 "nbformat": 4,
 "nbformat_minor": 5
}
