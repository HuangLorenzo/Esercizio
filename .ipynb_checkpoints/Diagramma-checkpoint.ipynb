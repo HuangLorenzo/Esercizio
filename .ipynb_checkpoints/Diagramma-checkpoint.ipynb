{
 "cells": [
  {
   "cell_type": "markdown",
   "id": "24ea299a-2c26-4cea-a3d7-1a060b08b2f0",
   "metadata": {},
   "source": [
    "# ESERCIZIO SARO A TRIO (diagramma HR)"
   ]
  },
  {
   "cell_type": "markdown",
   "id": "e4b86af2-f01d-43b2-9d8c-4e1a74613edd",
   "metadata": {},
   "source": [
    "Lavorate in gruppo (min 2, max 3). Lo scopo dell'esercizio e' creare un __codice che chiami una classe__, la quale implementi metodi per __leggere il file Nemo_6670.dat__ e realizzare il solito grafico colore-magnitudine, color-coded in base all'eta' delle stelle. Una persona organizza le attivita' e definisce il canovaccio del codice da caricare su gituhb, dando gli incarichi di \"riempire i buchi\" dividendosi il lavore."
   ]
  },
  {
   "cell_type": "markdown",
   "id": "1a53df6d-0f73-4baa-9841-2f2f2f5734ee",
   "metadata": {},
   "source": [
    "## CREAZIONE di una CLASSE"
   ]
  },
  {
   "cell_type": "markdown",
   "id": "8d141528-6473-47cc-afc0-2eb9a3d9c75e",
   "metadata": {},
   "source": [
    "Questa classe che prende come input un file di dati e output le colonne coi dati che ci servono per il grafico."
   ]
  },
  {
   "cell_type": "code",
   "execution_count": null,
   "id": "a023d47d-5c39-4720-abdc-61f8c26be848",
   "metadata": {},
   "outputs": [],
   "source": [
    "import pandas as pd\n",
    "import numpy as np\n",
    "from matplotlib import pyplot as plt\n",
    "import seaborn as sns\n",
    "class dati:\n",
    "        def __init__(self, file)\n",
    "        "
   ]
  },
  {
   "cell_type": "markdown",
   "id": "b9edb29b-2266-4483-94a3-ab90d0163378",
   "metadata": {},
   "source": [
    "Testo delle cose che fa Lorenzo"
   ]
  },
  {
   "cell_type": "markdown",
   "id": "1e133ecd-db35-414e-a809-ffc17b2b899c",
   "metadata": {},
   "source": [
    "Codice del testo di Lorenzo"
   ]
  }
 ],
 "metadata": {
  "kernelspec": {
   "display_name": "Python 3 (ipykernel)",
   "language": "python",
   "name": "python3"
  },
  "language_info": {
   "codemirror_mode": {
    "name": "ipython",
    "version": 3
   },
   "file_extension": ".py",
   "mimetype": "text/x-python",
   "name": "python",
   "nbconvert_exporter": "python",
   "pygments_lexer": "ipython3",
   "version": "3.12.6"
  }
 },
 "nbformat": 4,
 "nbformat_minor": 5
}
