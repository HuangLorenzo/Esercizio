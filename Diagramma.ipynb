{
 "cells": [
  {
   "cell_type": "markdown",
   "id": "24ea299a-2c26-4cea-a3d7-1a060b08b2f0",
   "metadata": {},
   "source": [
    "# ESERCIZIO SARO A COPPIE (diagramma HR)"
   ]
  },
  {
   "cell_type": "code",
   "execution_count": null,
   "id": "f1db55a5-089b-4c1a-8436-017bd4724d93",
   "metadata": {},
   "outputs": [],
   "source": []
  }
 ],
 "metadata": {
  "kernelspec": {
   "display_name": "Python 3 (ipykernel)",
   "language": "python",
   "name": "python3"
  },
  "language_info": {
   "codemirror_mode": {
    "name": "ipython",
    "version": 3
   },
   "file_extension": ".py",
   "mimetype": "text/x-python",
   "name": "python",
   "nbconvert_exporter": "python",
   "pygments_lexer": "ipython3",
   "version": "3.12.6"
  }
 },
 "nbformat": 4,
 "nbformat_minor": 5
}
